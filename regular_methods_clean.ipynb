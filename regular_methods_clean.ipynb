{
 "cells": [
  {
   "cell_type": "markdown",
   "metadata": {},
   "source": [
    "# Understanding personal protective behaviours and opportunities for interventions:\n",
    "## Results from a multi-method investigation of cross-sectional data\n",
    "#### Kaisa Sauro, James Twose, Gjalt-Jorn Peters, Matti Heino & Nelli Hankonen"
   ]
  },
  {
   "cell_type": "markdown",
   "metadata": {},
   "source": [
    "#### [Literature review of models](https://docs.google.com/document/d/129KeoFputOHx6Bp5cfi9Omz6LN3p14qjNLD3TXnFEbI/edit?usp=sharing)"
   ]
  },
  {
   "cell_type": "markdown",
   "metadata": {},
   "source": [
    "## approaches used here: _Linear Regression_, _Logistic Regression_, _Partial correlations_, _SEM_ "
   ]
  },
  {
   "cell_type": "code",
   "execution_count": 1,
   "metadata": {},
   "outputs": [],
   "source": [
    "import pandas as pd\n",
    "import numpy as np\n",
    "import seaborn as sns\n",
    "import matplotlib.pyplot as plt\n",
    "import session_info\n",
    "\n",
    "from sklearn.metrics import mean_squared_error\n",
    "from sklearn.model_selection import KFold, GroupKFold, GroupShuffleSplit, RepeatedStratifiedKFold, RepeatedKFold"
   ]
  },
  {
   "cell_type": "code",
   "execution_count": 2,
   "metadata": {},
   "outputs": [],
   "source": [
    "from sklearn.model_selection import train_test_split, GridSearchCV\n",
    "from scipy import stats"
   ]
  },
  {
   "cell_type": "code",
   "execution_count": 3,
   "metadata": {},
   "outputs": [],
   "source": [
    "from sklearn.model_selection import RepeatedStratifiedKFold, cross_val_score, cross_validate\n",
    "from sklearn.linear_model import LinearRegression"
   ]
  },
  {
   "cell_type": "code",
   "execution_count": 4,
   "metadata": {},
   "outputs": [],
   "source": [
    "from sklearn.model_selection import KFold"
   ]
  },
  {
   "cell_type": "code",
   "execution_count": 5,
   "metadata": {},
   "outputs": [],
   "source": [
    "import statsmodels.api as sm"
   ]
  },
  {
   "cell_type": "code",
   "execution_count": 6,
   "metadata": {},
   "outputs": [],
   "source": [
    "from semopy import Model, semplot, report\n",
    "from semopy.examples import political_democracy"
   ]
  },
  {
   "cell_type": "code",
   "execution_count": 7,
   "metadata": {},
   "outputs": [],
   "source": [
    "import itertools"
   ]
  },
  {
   "cell_type": "code",
   "execution_count": 8,
   "metadata": {},
   "outputs": [],
   "source": [
    "from jmspack.frequentist_statistics import (correlation_analysis,\n",
    "                                            potential_for_change_index,\n",
    "                                            multiple_univariate_OLSs\n",
    "                                           )\n",
    "from jmspack.utils import (flatten,\n",
    "                           apply_scaling,\n",
    "                           JmsColors\n",
    "                          )"
   ]
  },
  {
   "cell_type": "code",
   "execution_count": 9,
   "metadata": {},
   "outputs": [],
   "source": [
    "_ = sns.set_style(\"whitegrid\")"
   ]
  },
  {
   "cell_type": "markdown",
   "metadata": {},
   "source": [
    "### Virtual Environments and Packages"
   ]
  },
  {
   "cell_type": "code",
   "execution_count": 10,
   "metadata": {},
   "outputs": [
    {
     "data": {
      "text/html": [
       "<details>\n",
       "<summary>Click to view session information</summary>\n",
       "<pre>\n",
       "-----\n",
       "jmspack             0.1.0\n",
       "matplotlib          3.3.1\n",
       "numpy               1.19.1\n",
       "pandas              1.1.3\n",
       "scipy               1.7.1\n",
       "seaborn             0.11.0\n",
       "semopy              2.3.9\n",
       "session_info        1.0.0\n",
       "sklearn             0.23.2\n",
       "statsmodels         0.12.0\n",
       "-----\n",
       "</pre>\n",
       "<details>\n",
       "<summary>Click to view modules imported as dependencies</summary>\n",
       "<pre>\n",
       "PIL                 8.0.0\n",
       "appnope             0.1.0\n",
       "backcall            0.2.0\n",
       "beta_ufunc          NA\n",
       "binom_ufunc         NA\n",
       "cffi                1.14.3\n",
       "colorama            0.4.4\n",
       "cycler              0.10.0\n",
       "cython_runtime      NA\n",
       "dateutil            2.8.1\n",
       "decorator           4.4.2\n",
       "graphviz            0.16\n",
       "ipykernel           5.3.4\n",
       "ipython_genutils    0.2.0\n",
       "jedi                0.18.1\n",
       "joblib              0.17.0\n",
       "kiwisolver          1.2.0\n",
       "mpl_toolkits        NA\n",
       "mpmath              1.1.0\n",
       "nbinom_ufunc        NA\n",
       "parso               0.8.0\n",
       "patsy               0.5.1\n",
       "pexpect             4.8.0\n",
       "pickleshare         0.7.5\n",
       "pkg_resources       NA\n",
       "prompt_toolkit      3.0.8\n",
       "ptyprocess          0.6.0\n",
       "pygments            2.7.1\n",
       "pyparsing           2.4.7\n",
       "pytz                2020.1\n",
       "six                 1.15.0\n",
       "storemagic          NA\n",
       "sympy               1.9\n",
       "threadpoolctl       2.1.0\n",
       "tornado             6.0.4\n",
       "traitlets           5.0.5\n",
       "wcwidth             0.2.5\n",
       "zmq                 19.0.2\n",
       "</pre>\n",
       "</details> <!-- seems like this ends pre, so might as well be explicit -->\n",
       "<pre>\n",
       "-----\n",
       "IPython             7.18.1\n",
       "jupyter_client      6.1.7\n",
       "jupyter_core        4.6.3\n",
       "jupyterlab          2.2.6\n",
       "notebook            6.1.4\n",
       "-----\n",
       "Python 3.8.5 (default, Sep  4 2020, 02:22:02) [Clang 10.0.0 ]\n",
       "macOS-10.16-x86_64-i386-64bit\n",
       "-----\n",
       "Session information updated at 2021-12-07 22:04\n",
       "</pre>\n",
       "</details>"
      ],
      "text/plain": [
       "<IPython.core.display.HTML object>"
      ]
     },
     "execution_count": 10,
     "metadata": {},
     "output_type": "execute_result"
    }
   ],
   "source": [
    "session_info.show(req_file_name=\"corona_preppers-requirements.txt\",\n",
    "      write_req_file=False) #add write_req_file=True to function to get requirements.txt file of packages used"
   ]
  },
  {
   "cell_type": "markdown",
   "metadata": {},
   "source": [
    "### Read in data, show info and data head"
   ]
  },
  {
   "cell_type": "code",
   "execution_count": 11,
   "metadata": {},
   "outputs": [],
   "source": [
    "df = pd.read_csv(\"data/shield_gjames_21-09-20_prepped.csv\").drop(\"Unnamed: 0\", axis=1)"
   ]
  },
  {
   "cell_type": "code",
   "execution_count": 12,
   "metadata": {},
   "outputs": [
    {
     "data": {
      "text/html": [
       "<div>\n",
       "<style scoped>\n",
       "    .dataframe tbody tr th:only-of-type {\n",
       "        vertical-align: middle;\n",
       "    }\n",
       "\n",
       "    .dataframe tbody tr th {\n",
       "        vertical-align: top;\n",
       "    }\n",
       "\n",
       "    .dataframe thead th {\n",
       "        text-align: right;\n",
       "    }\n",
       "</style>\n",
       "<table border=\"1\" class=\"dataframe\">\n",
       "  <thead>\n",
       "    <tr style=\"text-align: right;\">\n",
       "      <th></th>\n",
       "      <th>id</th>\n",
       "      <th>sampling_weight</th>\n",
       "      <th>demographic_gender</th>\n",
       "      <th>demographic_age</th>\n",
       "      <th>demographic_4_areas</th>\n",
       "      <th>demographic_8_areas</th>\n",
       "      <th>demographic_higher_education</th>\n",
       "      <th>behaviour_indoors_nonhouseholders</th>\n",
       "      <th>behaviour_close_contact</th>\n",
       "      <th>behaviour_quarantined</th>\n",
       "      <th>...</th>\n",
       "      <th>intention_public_transport_recoded</th>\n",
       "      <th>intention_indoor_meeting_recoded</th>\n",
       "      <th>intention_restaurant_recoded</th>\n",
       "      <th>intention_pa_recoded</th>\n",
       "      <th>intention_composite</th>\n",
       "      <th>behaviour_indoors_nonhouseholders_recoded</th>\n",
       "      <th>behaviour_unmasked_recoded</th>\n",
       "      <th>behavior_composite</th>\n",
       "      <th>behavior_composite_recoded</th>\n",
       "      <th>intention_behavior_composite</th>\n",
       "    </tr>\n",
       "  </thead>\n",
       "  <tbody>\n",
       "    <tr>\n",
       "      <th>0</th>\n",
       "      <td>1</td>\n",
       "      <td>2.060959</td>\n",
       "      <td>2</td>\n",
       "      <td>60+</td>\n",
       "      <td>2</td>\n",
       "      <td>7</td>\n",
       "      <td>0</td>\n",
       "      <td>2</td>\n",
       "      <td>5</td>\n",
       "      <td>2</td>\n",
       "      <td>...</td>\n",
       "      <td>0</td>\n",
       "      <td>0</td>\n",
       "      <td>0</td>\n",
       "      <td>0</td>\n",
       "      <td>0</td>\n",
       "      <td>1.000000</td>\n",
       "      <td>0.000000</td>\n",
       "      <td>0.000000</td>\n",
       "      <td>0.000000</td>\n",
       "      <td>0.000000</td>\n",
       "    </tr>\n",
       "    <tr>\n",
       "      <th>1</th>\n",
       "      <td>2</td>\n",
       "      <td>1.784139</td>\n",
       "      <td>2</td>\n",
       "      <td>40-49</td>\n",
       "      <td>1</td>\n",
       "      <td>1</td>\n",
       "      <td>1</td>\n",
       "      <td>3</td>\n",
       "      <td>3</td>\n",
       "      <td>2</td>\n",
       "      <td>...</td>\n",
       "      <td>0</td>\n",
       "      <td>1</td>\n",
       "      <td>1</td>\n",
       "      <td>1</td>\n",
       "      <td>3</td>\n",
       "      <td>0.785714</td>\n",
       "      <td>0.214286</td>\n",
       "      <td>0.168367</td>\n",
       "      <td>0.841837</td>\n",
       "      <td>1.920918</td>\n",
       "    </tr>\n",
       "    <tr>\n",
       "      <th>2</th>\n",
       "      <td>3</td>\n",
       "      <td>1.204000</td>\n",
       "      <td>1</td>\n",
       "      <td>60+</td>\n",
       "      <td>1</td>\n",
       "      <td>2</td>\n",
       "      <td>1</td>\n",
       "      <td>4</td>\n",
       "      <td>4</td>\n",
       "      <td>2</td>\n",
       "      <td>...</td>\n",
       "      <td>0</td>\n",
       "      <td>0</td>\n",
       "      <td>0</td>\n",
       "      <td>0</td>\n",
       "      <td>0</td>\n",
       "      <td>0.500000</td>\n",
       "      <td>0.214286</td>\n",
       "      <td>0.107143</td>\n",
       "      <td>0.535714</td>\n",
       "      <td>0.267857</td>\n",
       "    </tr>\n",
       "    <tr>\n",
       "      <th>3</th>\n",
       "      <td>4</td>\n",
       "      <td>2.232220</td>\n",
       "      <td>1</td>\n",
       "      <td>60+</td>\n",
       "      <td>2</td>\n",
       "      <td>6</td>\n",
       "      <td>0</td>\n",
       "      <td>4</td>\n",
       "      <td>3</td>\n",
       "      <td>2</td>\n",
       "      <td>...</td>\n",
       "      <td>0</td>\n",
       "      <td>2</td>\n",
       "      <td>0</td>\n",
       "      <td>2</td>\n",
       "      <td>4</td>\n",
       "      <td>0.500000</td>\n",
       "      <td>0.500000</td>\n",
       "      <td>0.250000</td>\n",
       "      <td>1.250000</td>\n",
       "      <td>2.625000</td>\n",
       "    </tr>\n",
       "    <tr>\n",
       "      <th>4</th>\n",
       "      <td>5</td>\n",
       "      <td>1.627940</td>\n",
       "      <td>2</td>\n",
       "      <td>18-29</td>\n",
       "      <td>1</td>\n",
       "      <td>3</td>\n",
       "      <td>0</td>\n",
       "      <td>6</td>\n",
       "      <td>3</td>\n",
       "      <td>2</td>\n",
       "      <td>...</td>\n",
       "      <td>0</td>\n",
       "      <td>2</td>\n",
       "      <td>0</td>\n",
       "      <td>0</td>\n",
       "      <td>2</td>\n",
       "      <td>0.000000</td>\n",
       "      <td>0.214286</td>\n",
       "      <td>0.000000</td>\n",
       "      <td>0.000000</td>\n",
       "      <td>1.000000</td>\n",
       "    </tr>\n",
       "  </tbody>\n",
       "</table>\n",
       "<p>5 rows × 106 columns</p>\n",
       "</div>"
      ],
      "text/plain": [
       "   id  sampling_weight  demographic_gender demographic_age  \\\n",
       "0   1         2.060959                   2             60+   \n",
       "1   2         1.784139                   2           40-49   \n",
       "2   3         1.204000                   1             60+   \n",
       "3   4         2.232220                   1             60+   \n",
       "4   5         1.627940                   2           18-29   \n",
       "\n",
       "   demographic_4_areas  demographic_8_areas  demographic_higher_education  \\\n",
       "0                    2                    7                             0   \n",
       "1                    1                    1                             1   \n",
       "2                    1                    2                             1   \n",
       "3                    2                    6                             0   \n",
       "4                    1                    3                             0   \n",
       "\n",
       "   behaviour_indoors_nonhouseholders  behaviour_close_contact  \\\n",
       "0                                  2                        5   \n",
       "1                                  3                        3   \n",
       "2                                  4                        4   \n",
       "3                                  4                        3   \n",
       "4                                  6                        3   \n",
       "\n",
       "   behaviour_quarantined  ...  intention_public_transport_recoded  \\\n",
       "0                      2  ...                                   0   \n",
       "1                      2  ...                                   0   \n",
       "2                      2  ...                                   0   \n",
       "3                      2  ...                                   0   \n",
       "4                      2  ...                                   0   \n",
       "\n",
       "   intention_indoor_meeting_recoded  intention_restaurant_recoded  \\\n",
       "0                                 0                             0   \n",
       "1                                 1                             1   \n",
       "2                                 0                             0   \n",
       "3                                 2                             0   \n",
       "4                                 2                             0   \n",
       "\n",
       "   intention_pa_recoded  intention_composite  \\\n",
       "0                     0                    0   \n",
       "1                     1                    3   \n",
       "2                     0                    0   \n",
       "3                     2                    4   \n",
       "4                     0                    2   \n",
       "\n",
       "   behaviour_indoors_nonhouseholders_recoded  behaviour_unmasked_recoded  \\\n",
       "0                                   1.000000                    0.000000   \n",
       "1                                   0.785714                    0.214286   \n",
       "2                                   0.500000                    0.214286   \n",
       "3                                   0.500000                    0.500000   \n",
       "4                                   0.000000                    0.214286   \n",
       "\n",
       "   behavior_composite  behavior_composite_recoded  \\\n",
       "0            0.000000                    0.000000   \n",
       "1            0.168367                    0.841837   \n",
       "2            0.107143                    0.535714   \n",
       "3            0.250000                    1.250000   \n",
       "4            0.000000                    0.000000   \n",
       "\n",
       "   intention_behavior_composite  \n",
       "0                      0.000000  \n",
       "1                      1.920918  \n",
       "2                      0.267857  \n",
       "3                      2.625000  \n",
       "4                      1.000000  \n",
       "\n",
       "[5 rows x 106 columns]"
      ]
     },
     "execution_count": 12,
     "metadata": {},
     "output_type": "execute_result"
    }
   ],
   "source": [
    "df.head()"
   ]
  },
  {
   "cell_type": "code",
   "execution_count": 13,
   "metadata": {},
   "outputs": [],
   "source": [
    "sdt_columns = df.filter(regex=\"sdt\").columns.tolist()"
   ]
  },
  {
   "cell_type": "code",
   "execution_count": 14,
   "metadata": {},
   "outputs": [],
   "source": [
    "drop_sdt = True\n",
    "if drop_sdt:\n",
    "    df=df.drop(sdt_columns, axis=1)"
   ]
  },
  {
   "cell_type": "code",
   "execution_count": 15,
   "metadata": {},
   "outputs": [
    {
     "data": {
      "text/plain": [
       "(2272, 87)"
      ]
     },
     "execution_count": 15,
     "metadata": {},
     "output_type": "execute_result"
    }
   ],
   "source": [
    "df.shape"
   ]
  },
  {
   "cell_type": "markdown",
   "metadata": {},
   "source": [
    "### Specify the feature list, grouping variable, and specify the grouping variable as a categorical variable"
   ]
  },
  {
   "cell_type": "code",
   "execution_count": 16,
   "metadata": {},
   "outputs": [],
   "source": [
    "target = \"intention_behavior_composite\""
   ]
  },
  {
   "cell_type": "code",
   "execution_count": 17,
   "metadata": {},
   "outputs": [],
   "source": [
    "df[target] = (df[target] - 10) * -1"
   ]
  },
  {
   "cell_type": "code",
   "execution_count": 18,
   "metadata": {},
   "outputs": [],
   "source": [
    "features_list = df.filter(regex=\"^automaticity|attitude|^norms|^risk|^effective\").columns.tolist()"
   ]
  },
  {
   "cell_type": "code",
   "execution_count": 19,
   "metadata": {},
   "outputs": [],
   "source": [
    "meta_columns = ['Original position', 'Variable name', 'Label',\n",
    "       'Item english translation', 'Label short', 'Type', 'New variable name',\n",
    "       'variable name helper',\n",
    "       'Of primary interest as a predictor (i.e. feature)?', 'English lo-anchor',\n",
    "       'English hi-anchor']"
   ]
  },
  {
   "cell_type": "code",
   "execution_count": 20,
   "metadata": {},
   "outputs": [],
   "source": [
    "meta_df = pd.read_excel(\"metadata/questionLabels.xlsx\").loc[:, meta_columns]"
   ]
  },
  {
   "cell_type": "code",
   "execution_count": 21,
   "metadata": {},
   "outputs": [],
   "source": [
    "meta_list = df.filter(regex=\"^automaticity|attitude|^norms|^risk|^effective|^behaviour|^intention\").columns.tolist()"
   ]
  },
  {
   "cell_type": "code",
   "execution_count": 22,
   "metadata": {},
   "outputs": [],
   "source": [
    "pd.set_option(\"display.max_colwidth\", 350)\n",
    "pd.set_option('display.expand_frame_repr', True)\n",
    "# meta_df.loc[meta_df[\"New variable name\"].isin(meta_list), [\"Item english translation\", \"New variable name\"]]"
   ]
  },
  {
   "cell_type": "code",
   "execution_count": 23,
   "metadata": {},
   "outputs": [],
   "source": [
    "pd.set_option(\"display.max_colwidth\", 100)"
   ]
  },
  {
   "cell_type": "markdown",
   "metadata": {},
   "source": [
    "## EDA on the target\n",
    "Check the amount of samples in the target"
   ]
  },
  {
   "cell_type": "code",
   "execution_count": 24,
   "metadata": {},
   "outputs": [
    {
     "data": {
      "image/png": "[encoded data removed]",
      "text/plain": [
       "<Figure size 432x288 with 1 Axes>"
      ]
     },
     "metadata": {},
     "output_type": "display_data"
    }
   ],
   "source": [
    "_ = sns.violinplot(data=df[[target]].melt(), \n",
    "                    x=\"variable\", \n",
    "                    y=\"value\"\n",
    "               )\n",
    "_ = sns.stripplot(data=df[[target]].melt(), \n",
    "                    x=\"variable\", \n",
    "                    y=\"value\",\n",
    "                  edgecolor='white',\n",
    "                  linewidth=0.5\n",
    "               )"
   ]
  },
  {
   "cell_type": "code",
   "execution_count": 25,
   "metadata": {},
   "outputs": [
    {
     "data": {
      "text/html": [
       "<div>\n",
       "<style scoped>\n",
       "    .dataframe tbody tr th:only-of-type {\n",
       "        vertical-align: middle;\n",
       "    }\n",
       "\n",
       "    .dataframe tbody tr th {\n",
       "        vertical-align: top;\n",
       "    }\n",
       "\n",
       "    .dataframe thead th {\n",
       "        text-align: right;\n",
       "    }\n",
       "</style>\n",
       "<table border=\"1\" class=\"dataframe\">\n",
       "  <thead>\n",
       "    <tr style=\"text-align: right;\">\n",
       "      <th>demographic_age</th>\n",
       "      <th>18-29</th>\n",
       "      <th>30-39</th>\n",
       "      <th>40-49</th>\n",
       "      <th>50-59</th>\n",
       "      <th>60+</th>\n",
       "    </tr>\n",
       "    <tr>\n",
       "      <th>demographic_gender</th>\n",
       "      <th></th>\n",
       "      <th></th>\n",
       "      <th></th>\n",
       "      <th></th>\n",
       "      <th></th>\n",
       "    </tr>\n",
       "  </thead>\n",
       "  <tbody>\n",
       "    <tr>\n",
       "      <th>1</th>\n",
       "      <td>114</td>\n",
       "      <td>169</td>\n",
       "      <td>187</td>\n",
       "      <td>168</td>\n",
       "      <td>337</td>\n",
       "    </tr>\n",
       "    <tr>\n",
       "      <th>2</th>\n",
       "      <td>281</td>\n",
       "      <td>185</td>\n",
       "      <td>229</td>\n",
       "      <td>211</td>\n",
       "      <td>391</td>\n",
       "    </tr>\n",
       "  </tbody>\n",
       "</table>\n",
       "</div>"
      ],
      "text/plain": [
       "demographic_age     18-29  30-39  40-49  50-59  60+\n",
       "demographic_gender                                 \n",
       "1                     114    169    187    168  337\n",
       "2                     281    185    229    211  391"
      ]
     },
     "execution_count": 25,
     "metadata": {},
     "output_type": "execute_result"
    }
   ],
   "source": [
    "pd.crosstab(df[\"demographic_gender\"], df[\"demographic_age\"])"
   ]
  },
  {
   "cell_type": "code",
   "execution_count": 26,
   "metadata": {},
   "outputs": [
    {
     "data": {
      "text/html": [
       "<div>\n",
       "<style scoped>\n",
       "    .dataframe tbody tr th:only-of-type {\n",
       "        vertical-align: middle;\n",
       "    }\n",
       "\n",
       "    .dataframe tbody tr th {\n",
       "        vertical-align: top;\n",
       "    }\n",
       "\n",
       "    .dataframe thead th {\n",
       "        text-align: right;\n",
       "    }\n",
       "</style>\n",
       "<table border=\"1\" class=\"dataframe\">\n",
       "  <thead>\n",
       "    <tr style=\"text-align: right;\">\n",
       "      <th></th>\n",
       "      <th>count</th>\n",
       "      <th>mean</th>\n",
       "      <th>std</th>\n",
       "      <th>min</th>\n",
       "      <th>25%</th>\n",
       "      <th>50%</th>\n",
       "      <th>75%</th>\n",
       "      <th>max</th>\n",
       "    </tr>\n",
       "  </thead>\n",
       "  <tbody>\n",
       "    <tr>\n",
       "      <th>intention_behavior_composite</th>\n",
       "      <td>2272.0</td>\n",
       "      <td>8.582428</td>\n",
       "      <td>1.524704</td>\n",
       "      <td>-0.0</td>\n",
       "      <td>8.017857</td>\n",
       "      <td>8.964286</td>\n",
       "      <td>9.5</td>\n",
       "      <td>10.0</td>\n",
       "    </tr>\n",
       "  </tbody>\n",
       "</table>\n",
       "</div>"
      ],
      "text/plain": [
       "                               count      mean       std  min       25%  \\\n",
       "intention_behavior_composite  2272.0  8.582428  1.524704 -0.0  8.017857   \n",
       "\n",
       "                                   50%  75%   max  \n",
       "intention_behavior_composite  8.964286  9.5  10.0  "
      ]
     },
     "execution_count": 26,
     "metadata": {},
     "output_type": "execute_result"
    }
   ],
   "source": [
    "target_df = df[target]\n",
    "target_df.describe().to_frame().T"
   ]
  },
  {
   "cell_type": "code",
   "execution_count": 27,
   "metadata": {},
   "outputs": [
    {
     "data": {
      "image/png": "[encoded data removed]",
      "text/plain": [
       "<Figure size 1440x360 with 1 Axes>"
      ]
     },
     "metadata": {},
     "output_type": "display_data"
    }
   ],
   "source": [
    "_ = plt.figure(figsize=(20, 5))\n",
    "_ = sns.countplot(x=target_df)\n",
    "_ = plt.xticks(rotation=90)"
   ]
  },
  {
   "cell_type": "code",
   "execution_count": 28,
   "metadata": {},
   "outputs": [],
   "source": [
    "df = (df[[\"demographic_age\", \"demographic_higher_education\"] + features_list + [target]])"
   ]
  },
  {
   "cell_type": "code",
   "execution_count": 29,
   "metadata": {},
   "outputs": [
    {
     "name": "stdout",
     "output_type": "stream",
     "text": [
      "<class 'pandas.core.frame.DataFrame'>\n",
      "RangeIndex: 2272 entries, 0 to 2271\n",
      "Data columns (total 30 columns):\n",
      " #   Column                            Non-Null Count  Dtype  \n",
      "---  ------                            --------------  -----  \n",
      " 0   demographic_age                   2272 non-null   object \n",
      " 1   demographic_higher_education      2272 non-null   int64  \n",
      " 2   automaticity_carry_mask           2272 non-null   int64  \n",
      " 3   automaticity_put_on_mask          2272 non-null   int64  \n",
      " 4   inst_attitude_protects_self       2272 non-null   int64  \n",
      " 5   inst_attitude_protects_others     2272 non-null   int64  \n",
      " 6   inst_attitude_sense_of_community  2272 non-null   int64  \n",
      " 7   inst_attitude_enough_oxygen       2272 non-null   int64  \n",
      " 8   inst_attitude_no_needless_waste   2272 non-null   int64  \n",
      " 9   norms_family_friends              2272 non-null   int64  \n",
      " 10  norms_risk_groups                 2272 non-null   int64  \n",
      " 11  norms_officials                   2272 non-null   int64  \n",
      " 12  norms_people_present_indoors      2272 non-null   int64  \n",
      " 13  aff_attitude_comfortable          2272 non-null   int64  \n",
      " 14  aff_attitude_calm                 2272 non-null   int64  \n",
      " 15  aff_attitude_safe                 2272 non-null   int64  \n",
      " 16  aff_attitude_responsible          2272 non-null   int64  \n",
      " 17  aff_attitude_difficult_breathing  2272 non-null   int64  \n",
      " 18  effective_means_handwashing       2272 non-null   int64  \n",
      " 19  effective_means_masks             2272 non-null   int64  \n",
      " 20  effective_means_distance          2272 non-null   int64  \n",
      " 21  effective_means_ventilation       2272 non-null   int64  \n",
      " 22  risk_likely_contagion             2272 non-null   int64  \n",
      " 23  risk_contagion_absent_protection  2272 non-null   int64  \n",
      " 24  risk_severity                     2272 non-null   int64  \n",
      " 25  risk_fear_spread                  2272 non-null   int64  \n",
      " 26  risk_fear_contagion_self          2272 non-null   int64  \n",
      " 27  risk_fear_contagion_others        2272 non-null   int64  \n",
      " 28  risk_fear_restrictions            2272 non-null   int64  \n",
      " 29  intention_behavior_composite      2272 non-null   float64\n",
      "dtypes: float64(1), int64(28), object(1)\n",
      "memory usage: 532.6+ KB\n"
     ]
    }
   ],
   "source": [
    "df.info()"
   ]
  },
  {
   "cell_type": "code",
   "execution_count": 30,
   "metadata": {},
   "outputs": [
    {
     "data": {
      "text/html": [
       "<div>\n",
       "<style scoped>\n",
       "    .dataframe tbody tr th:only-of-type {\n",
       "        vertical-align: middle;\n",
       "    }\n",
       "\n",
       "    .dataframe tbody tr th {\n",
       "        vertical-align: top;\n",
       "    }\n",
       "\n",
       "    .dataframe thead th {\n",
       "        text-align: right;\n",
       "    }\n",
       "</style>\n",
       "<table border=\"1\" class=\"dataframe\">\n",
       "  <thead>\n",
       "    <tr style=\"text-align: right;\">\n",
       "      <th></th>\n",
       "      <th>intention_behavior_composite</th>\n",
       "    </tr>\n",
       "  </thead>\n",
       "  <tbody>\n",
       "    <tr>\n",
       "      <th>10.000000</th>\n",
       "      <td>424</td>\n",
       "    </tr>\n",
       "    <tr>\n",
       "      <th>9.500000</th>\n",
       "      <td>228</td>\n",
       "    </tr>\n",
       "    <tr>\n",
       "      <th>9.000000</th>\n",
       "      <td>187</td>\n",
       "    </tr>\n",
       "    <tr>\n",
       "      <th>8.885204</th>\n",
       "      <td>155</td>\n",
       "    </tr>\n",
       "    <tr>\n",
       "      <th>9.385204</th>\n",
       "      <td>112</td>\n",
       "    </tr>\n",
       "  </tbody>\n",
       "</table>\n",
       "</div>"
      ],
      "text/plain": [
       "           intention_behavior_composite\n",
       "10.000000                           424\n",
       "9.500000                            228\n",
       "9.000000                            187\n",
       "8.885204                            155\n",
       "9.385204                            112"
      ]
     },
     "metadata": {},
     "output_type": "display_data"
    },
    {
     "data": {
      "text/plain": [
       "(None, 2272, 1106)"
      ]
     },
     "execution_count": 30,
     "metadata": {},
     "output_type": "execute_result"
    }
   ],
   "source": [
    "display(df[target].value_counts().head().to_frame()), df.shape[0], df[target].value_counts().head().sum()"
   ]
  },
  {
   "cell_type": "markdown",
   "metadata": {},
   "source": [
    "## Multivariate Linear Regression"
   ]
  },
  {
   "cell_type": "code",
   "execution_count": 31,
   "metadata": {},
   "outputs": [],
   "source": [
    "X = df[features_list]\n",
    "y = df[target]"
   ]
  },
  {
   "cell_type": "code",
   "execution_count": 32,
   "metadata": {},
   "outputs": [
    {
     "data": {
      "text/html": [
       "<table class=\"simpletable\">\n",
       "<caption>OLS Regression Results</caption>\n",
       "<tr>\n",
       "  <th>Dep. Variable:</th>    <td>intention_behavior_composite</td> <th>  R-squared (uncentered):</th>      <td>   0.980</td>\n",
       "</tr>\n",
       "<tr>\n",
       "  <th>Model:</th>                         <td>OLS</td>             <th>  Adj. R-squared (uncentered):</th> <td>   0.980</td>\n",
       "</tr>\n",
       "<tr>\n",
       "  <th>Method:</th>                   <td>Least Squares</td>        <th>  F-statistic:       </th>          <td>   4050.</td>\n",
       "</tr>\n",
       "<tr>\n",
       "  <th>Date:</th>                   <td>Tue, 07 Dec 2021</td>       <th>  Prob (F-statistic):</th>           <td>  0.00</td> \n",
       "</tr>\n",
       "<tr>\n",
       "  <th>Time:</th>                       <td>22:04:57</td>           <th>  Log-Likelihood:    </th>          <td> -3705.8</td>\n",
       "</tr>\n",
       "<tr>\n",
       "  <th>No. Observations:</th>            <td>  2272</td>            <th>  AIC:               </th>          <td>   7466.</td>\n",
       "</tr>\n",
       "<tr>\n",
       "  <th>Df Residuals:</th>                <td>  2245</td>            <th>  BIC:               </th>          <td>   7620.</td>\n",
       "</tr>\n",
       "<tr>\n",
       "  <th>Df Model:</th>                    <td>    27</td>            <th>                     </th>              <td> </td>   \n",
       "</tr>\n",
       "<tr>\n",
       "  <th>Covariance Type:</th>            <td>nonrobust</td>          <th>                     </th>              <td> </td>   \n",
       "</tr>\n",
       "</table>\n",
       "<table class=\"simpletable\">\n",
       "<tr>\n",
       "                  <td></td>                    <th>coef</th>     <th>std err</th>      <th>t</th>      <th>P>|t|</th>  <th>[0.025</th>    <th>0.975]</th>  \n",
       "</tr>\n",
       "<tr>\n",
       "  <th>automaticity_carry_mask</th>          <td>    0.0923</td> <td>    0.031</td> <td>    2.933</td> <td> 0.003</td> <td>    0.031</td> <td>    0.154</td>\n",
       "</tr>\n",
       "<tr>\n",
       "  <th>automaticity_put_on_mask</th>         <td>    0.0787</td> <td>    0.034</td> <td>    2.331</td> <td> 0.020</td> <td>    0.012</td> <td>    0.145</td>\n",
       "</tr>\n",
       "<tr>\n",
       "  <th>inst_attitude_protects_self</th>      <td>   -0.0120</td> <td>    0.024</td> <td>   -0.491</td> <td> 0.624</td> <td>   -0.060</td> <td>    0.036</td>\n",
       "</tr>\n",
       "<tr>\n",
       "  <th>inst_attitude_protects_others</th>    <td>    0.2237</td> <td>    0.032</td> <td>    6.901</td> <td> 0.000</td> <td>    0.160</td> <td>    0.287</td>\n",
       "</tr>\n",
       "<tr>\n",
       "  <th>inst_attitude_sense_of_community</th> <td>   -0.0035</td> <td>    0.020</td> <td>   -0.173</td> <td> 0.863</td> <td>   -0.043</td> <td>    0.036</td>\n",
       "</tr>\n",
       "<tr>\n",
       "  <th>inst_attitude_enough_oxygen</th>      <td>    0.1177</td> <td>    0.021</td> <td>    5.668</td> <td> 0.000</td> <td>    0.077</td> <td>    0.158</td>\n",
       "</tr>\n",
       "<tr>\n",
       "  <th>inst_attitude_no_needless_waste</th>  <td>    0.0190</td> <td>    0.016</td> <td>    1.172</td> <td> 0.241</td> <td>   -0.013</td> <td>    0.051</td>\n",
       "</tr>\n",
       "<tr>\n",
       "  <th>norms_family_friends</th>             <td>    0.0758</td> <td>    0.027</td> <td>    2.840</td> <td> 0.005</td> <td>    0.023</td> <td>    0.128</td>\n",
       "</tr>\n",
       "<tr>\n",
       "  <th>norms_risk_groups</th>                <td>-4.061e-05</td> <td>    0.034</td> <td>   -0.001</td> <td> 0.999</td> <td>   -0.067</td> <td>    0.067</td>\n",
       "</tr>\n",
       "<tr>\n",
       "  <th>norms_officials</th>                  <td>    0.1520</td> <td>    0.032</td> <td>    4.817</td> <td> 0.000</td> <td>    0.090</td> <td>    0.214</td>\n",
       "</tr>\n",
       "<tr>\n",
       "  <th>norms_people_present_indoors</th>     <td>    0.1691</td> <td>    0.024</td> <td>    7.160</td> <td> 0.000</td> <td>    0.123</td> <td>    0.215</td>\n",
       "</tr>\n",
       "<tr>\n",
       "  <th>aff_attitude_comfortable</th>         <td>    0.0224</td> <td>    0.029</td> <td>    0.778</td> <td> 0.437</td> <td>   -0.034</td> <td>    0.079</td>\n",
       "</tr>\n",
       "<tr>\n",
       "  <th>aff_attitude_calm</th>                <td>    0.0316</td> <td>    0.027</td> <td>    1.192</td> <td> 0.233</td> <td>   -0.020</td> <td>    0.084</td>\n",
       "</tr>\n",
       "<tr>\n",
       "  <th>aff_attitude_safe</th>                <td>    0.0213</td> <td>    0.031</td> <td>    0.688</td> <td> 0.492</td> <td>   -0.039</td> <td>    0.082</td>\n",
       "</tr>\n",
       "<tr>\n",
       "  <th>aff_attitude_responsible</th>         <td>    0.0120</td> <td>    0.033</td> <td>    0.363</td> <td> 0.717</td> <td>   -0.053</td> <td>    0.077</td>\n",
       "</tr>\n",
       "<tr>\n",
       "  <th>aff_attitude_difficult_breathing</th> <td>    0.1773</td> <td>    0.019</td> <td>    9.375</td> <td> 0.000</td> <td>    0.140</td> <td>    0.214</td>\n",
       "</tr>\n",
       "<tr>\n",
       "  <th>effective_means_handwashing</th>      <td>    0.0465</td> <td>    0.021</td> <td>    2.170</td> <td> 0.030</td> <td>    0.004</td> <td>    0.089</td>\n",
       "</tr>\n",
       "<tr>\n",
       "  <th>effective_means_masks</th>            <td>    0.0202</td> <td>    0.028</td> <td>    0.721</td> <td> 0.471</td> <td>   -0.035</td> <td>    0.075</td>\n",
       "</tr>\n",
       "<tr>\n",
       "  <th>effective_means_distance</th>         <td>    0.1063</td> <td>    0.026</td> <td>    4.127</td> <td> 0.000</td> <td>    0.056</td> <td>    0.157</td>\n",
       "</tr>\n",
       "<tr>\n",
       "  <th>effective_means_ventilation</th>      <td>    0.0497</td> <td>    0.020</td> <td>    2.507</td> <td> 0.012</td> <td>    0.011</td> <td>    0.089</td>\n",
       "</tr>\n",
       "<tr>\n",
       "  <th>risk_likely_contagion</th>            <td>    0.0551</td> <td>    0.023</td> <td>    2.344</td> <td> 0.019</td> <td>    0.009</td> <td>    0.101</td>\n",
       "</tr>\n",
       "<tr>\n",
       "  <th>risk_contagion_absent_protection</th> <td>    0.0012</td> <td>    0.020</td> <td>    0.062</td> <td> 0.951</td> <td>   -0.038</td> <td>    0.040</td>\n",
       "</tr>\n",
       "<tr>\n",
       "  <th>risk_severity</th>                    <td>    0.1452</td> <td>    0.021</td> <td>    6.893</td> <td> 0.000</td> <td>    0.104</td> <td>    0.187</td>\n",
       "</tr>\n",
       "<tr>\n",
       "  <th>risk_fear_spread</th>                 <td>    0.0224</td> <td>    0.026</td> <td>    0.848</td> <td> 0.396</td> <td>   -0.029</td> <td>    0.074</td>\n",
       "</tr>\n",
       "<tr>\n",
       "  <th>risk_fear_contagion_self</th>         <td>   -0.0313</td> <td>    0.026</td> <td>   -1.206</td> <td> 0.228</td> <td>   -0.082</td> <td>    0.020</td>\n",
       "</tr>\n",
       "<tr>\n",
       "  <th>risk_fear_contagion_others</th>       <td>   -0.0046</td> <td>    0.025</td> <td>   -0.185</td> <td> 0.853</td> <td>   -0.053</td> <td>    0.044</td>\n",
       "</tr>\n",
       "<tr>\n",
       "  <th>risk_fear_restrictions</th>           <td>    0.0210</td> <td>    0.014</td> <td>    1.451</td> <td> 0.147</td> <td>   -0.007</td> <td>    0.049</td>\n",
       "</tr>\n",
       "</table>\n",
       "<table class=\"simpletable\">\n",
       "<tr>\n",
       "  <th>Omnibus:</th>       <td>288.080</td> <th>  Durbin-Watson:     </th> <td>   1.928</td> \n",
       "</tr>\n",
       "<tr>\n",
       "  <th>Prob(Omnibus):</th> <td> 0.000</td>  <th>  Jarque-Bera (JB):  </th> <td>1109.978</td> \n",
       "</tr>\n",
       "<tr>\n",
       "  <th>Skew:</th>          <td>-0.581</td>  <th>  Prob(JB):          </th> <td>9.36e-242</td>\n",
       "</tr>\n",
       "<tr>\n",
       "  <th>Kurtosis:</th>      <td> 6.221</td>  <th>  Cond. No.          </th> <td>    45.1</td> \n",
       "</tr>\n",
       "</table><br/><br/>Notes:<br/>[1] R² is computed without centering (uncentered) since the model does not contain a constant.<br/>[2] Standard Errors assume that the covariance matrix of the errors is correctly specified."
      ],
      "text/plain": [
       "<class 'statsmodels.iolib.summary.Summary'>\n",
       "\"\"\"\n",
       "                                      OLS Regression Results                                     \n",
       "=================================================================================================\n",
       "Dep. Variable:     intention_behavior_composite   R-squared (uncentered):                   0.980\n",
       "Model:                                      OLS   Adj. R-squared (uncentered):              0.980\n",
       "Method:                           Least Squares   F-statistic:                              4050.\n",
       "Date:                          Tue, 07 Dec 2021   Prob (F-statistic):                        0.00\n",
       "Time:                                  22:04:57   Log-Likelihood:                         -3705.8\n",
       "No. Observations:                          2272   AIC:                                      7466.\n",
       "Df Residuals:                              2245   BIC:                                      7620.\n",
       "Df Model:                                    27                                                  \n",
       "Covariance Type:                      nonrobust                                                  \n",
       "====================================================================================================\n",
       "                                       coef    std err          t      P>|t|      [0.025      0.975]\n",
       "----------------------------------------------------------------------------------------------------\n",
       "automaticity_carry_mask              0.0923      0.031      2.933      0.003       0.031       0.154\n",
       "automaticity_put_on_mask             0.0787      0.034      2.331      0.020       0.012       0.145\n",
       "inst_attitude_protects_self         -0.0120      0.024     -0.491      0.624      -0.060       0.036\n",
       "inst_attitude_protects_others        0.2237      0.032      6.901      0.000       0.160       0.287\n",
       "inst_attitude_sense_of_community    -0.0035      0.020     -0.173      0.863      -0.043       0.036\n",
       "inst_attitude_enough_oxygen          0.1177      0.021      5.668      0.000       0.077       0.158\n",
       "inst_attitude_no_needless_waste      0.0190      0.016      1.172      0.241      -0.013       0.051\n",
       "norms_family_friends                 0.0758      0.027      2.840      0.005       0.023       0.128\n",
       "norms_risk_groups                -4.061e-05      0.034     -0.001      0.999      -0.067       0.067\n",
       "norms_officials                      0.1520      0.032      4.817      0.000       0.090       0.214\n",
       "norms_people_present_indoors         0.1691      0.024      7.160      0.000       0.123       0.215\n",
       "aff_attitude_comfortable             0.0224      0.029      0.778      0.437      -0.034       0.079\n",
       "aff_attitude_calm                    0.0316      0.027      1.192      0.233      -0.020       0.084\n",
       "aff_attitude_safe                    0.0213      0.031      0.688      0.492      -0.039       0.082\n",
       "aff_attitude_responsible             0.0120      0.033      0.363      0.717      -0.053       0.077\n",
       "aff_attitude_difficult_breathing     0.1773      0.019      9.375      0.000       0.140       0.214\n",
       "effective_means_handwashing          0.0465      0.021      2.170      0.030       0.004       0.089\n",
       "effective_means_masks                0.0202      0.028      0.721      0.471      -0.035       0.075\n",
       "effective_means_distance             0.1063      0.026      4.127      0.000       0.056       0.157\n",
       "effective_means_ventilation          0.0497      0.020      2.507      0.012       0.011       0.089\n",
       "risk_likely_contagion                0.0551      0.023      2.344      0.019       0.009       0.101\n",
       "risk_contagion_absent_protection     0.0012      0.020      0.062      0.951      -0.038       0.040\n",
       "risk_severity                        0.1452      0.021      6.893      0.000       0.104       0.187\n",
       "risk_fear_spread                     0.0224      0.026      0.848      0.396      -0.029       0.074\n",
       "risk_fear_contagion_self            -0.0313      0.026     -1.206      0.228      -0.082       0.020\n",
       "risk_fear_contagion_others          -0.0046      0.025     -0.185      0.853      -0.053       0.044\n",
       "risk_fear_restrictions               0.0210      0.014      1.451      0.147      -0.007       0.049\n",
       "==============================================================================\n",
       "Omnibus:                      288.080   Durbin-Watson:                   1.928\n",
       "Prob(Omnibus):                  0.000   Jarque-Bera (JB):             1109.978\n",
       "Skew:                          -0.581   Prob(JB):                    9.36e-242\n",
       "Kurtosis:                       6.221   Cond. No.                         45.1\n",
       "==============================================================================\n",
       "\n",
       "Notes:\n",
       "[1] R² is computed without centering (uncentered) since the model does not contain a constant.\n",
       "[2] Standard Errors assume that the covariance matrix of the errors is correctly specified.\n",
       "\"\"\""
      ]
     },
     "metadata": {},
     "output_type": "display_data"
    }
   ],
   "source": [
    "mod = sm.OLS(endog=y, exog=X)\n",
    "res = mod.fit()\n",
    "display(res.summary())"
   ]
  },
  {
   "cell_type": "markdown",
   "metadata": {},
   "source": [
    "## SEM"
   ]
  },
  {
   "cell_type": "code",
   "execution_count": 33,
   "metadata": {},
   "outputs": [],
   "source": [
    "# automaticity|attitude|^norms|^risk|^effective"
   ]
  },
  {
   "cell_type": "code",
   "execution_count": 34,
   "metadata": {},
   "outputs": [],
   "source": [
    "aut = df.filter(regex=\"automaticity\").columns.tolist()\n",
    "att = df.filter(regex=\"attitude\").columns.tolist()\n",
    "nor = df.filter(regex=\"^norms\").columns.tolist()\n",
    "ris = df.filter(regex=\"^risk\").columns.tolist()\n",
    "eff = df.filter(regex=\"^effective\").columns.tolist()"
   ]
  },
  {
   "cell_type": "code",
   "execution_count": 35,
   "metadata": {},
   "outputs": [],
   "source": [
    "aut_corrs = '\\n'.join([' ~~ '.join(x) for x in itertools.combinations(aut, 2)])\n",
    "att_corrs = '\\n'.join([' ~~ '.join(x) for x in itertools.combinations(att, 2)])\n",
    "nor_corrs = '\\n'.join([' ~~ '.join(x) for x in itertools.combinations(nor, 2)])\n",
    "ris_corrs = '\\n'.join([' ~~ '.join(x) for x in itertools.combinations(ris, 2)])\n",
    "eff_corrs = '\\n'.join([' ~~ '.join(x) for x in itertools.combinations(eff, 2)])"
   ]
  },
  {
   "cell_type": "code",
   "execution_count": 36,
   "metadata": {},
   "outputs": [],
   "source": [
    "desc = f\"\"\"\n",
    "# measurement model\n",
    "automaticity =~ {' + '.join(aut)}\n",
    "attitude =~ {' + '.join(att)}\n",
    "norms =~ {' + '.join(nor)}\n",
    "risk =~ {' + '.join(ris)}\n",
    "effective =~ {' + '.join(eff)}\n",
    "\n",
    "# regression\n",
    "{target} =~ automaticity + attitude + norms + risk + effective\n",
    "\n",
    "# residual correlations\n",
    "{aut_corrs}\n",
    "{att_corrs}\n",
    "{nor_corrs}\n",
    "{ris_corrs}\n",
    "{eff_corrs}\n",
    "\n",
    "\"\"\""
   ]
  },
  {
   "cell_type": "code",
   "execution_count": 37,
   "metadata": {},
   "outputs": [
    {
     "name": "stdout",
     "output_type": "stream",
     "text": [
      "\n",
      "# measurement model\n",
      "automaticity =~ automaticity_carry_mask + automaticity_put_on_mask\n",
      "attitude =~ inst_attitude_protects_self + inst_attitude_protects_others + inst_attitude_sense_of_community + inst_attitude_enough_oxygen + inst_attitude_no_needless_waste + aff_attitude_comfortable + aff_attitude_calm + aff_attitude_safe + aff_attitude_responsible + aff_attitude_difficult_breathing\n",
      "norms =~ norms_family_friends + norms_risk_groups + norms_officials + norms_people_present_indoors\n",
      "risk =~ risk_likely_contagion + risk_contagion_absent_protection + risk_severity + risk_fear_spread + risk_fear_contagion_self + risk_fear_contagion_others + risk_fear_restrictions\n",
      "effective =~ effective_means_handwashing + effective_means_masks + effective_means_distance + effective_means_ventilation\n",
      "\n",
      "# regression\n",
      "intention_behavior_composite =~ automaticity + attitude + norms + risk + effective\n",
      "\n",
      "\n"
     ]
    }
   ],
   "source": [
    "print(desc[:888])"
   ]
  },
  {
   "cell_type": "code",
   "execution_count": 38,
   "metadata": {},
   "outputs": [
    {
     "name": "stderr",
     "output_type": "stream",
     "text": [
      "WARNING:root:Fisher Information Matrix is not PD.Moore-Penrose inverse will be used instead of Cholesky decomposition. See 10.1109/TSP.2012.2208105.\n",
      "WARNING:root:Fisher Information Matrix is not PD.Moore-Penrose inverse will be used instead of Cholesky decomposition. See 10.1109/TSP.2012.2208105.\n",
      "WARNING:root:Fisher Information Matrix is not PD.Moore-Penrose inverse will be used instead of Cholesky decomposition. See 10.1109/TSP.2012.2208105.\n",
      "WARNING:root:Fisher Information Matrix is not PD.Moore-Penrose inverse will be used instead of Cholesky decomposition. See 10.1109/TSP.2012.2208105.\n",
      "WARNING:root:Fisher Information Matrix is not PD.Moore-Penrose inverse will be used instead of Cholesky decomposition. See 10.1109/TSP.2012.2208105.\n",
      "WARNING:root:Fisher Information Matrix is not PD.Moore-Penrose inverse will be used instead of Cholesky decomposition. See 10.1109/TSP.2012.2208105.\n"
     ]
    },
    {
     "data": {
      "text/html": [
       "<div>\n",
       "<style scoped>\n",
       "    .dataframe tbody tr th:only-of-type {\n",
       "        vertical-align: middle;\n",
       "    }\n",
       "\n",
       "    .dataframe tbody tr th {\n",
       "        vertical-align: top;\n",
       "    }\n",
       "\n",
       "    .dataframe thead th {\n",
       "        text-align: right;\n",
       "    }\n",
       "</style>\n",
       "<table border=\"1\" class=\"dataframe\">\n",
       "  <thead>\n",
       "    <tr style=\"text-align: right;\">\n",
       "      <th></th>\n",
       "      <th>lval</th>\n",
       "      <th>op</th>\n",
       "      <th>rval</th>\n",
       "      <th>Estimate</th>\n",
       "      <th>Std. Err</th>\n",
       "      <th>z-value</th>\n",
       "      <th>p-value</th>\n",
       "    </tr>\n",
       "  </thead>\n",
       "  <tbody>\n",
       "    <tr>\n",
       "      <th>0</th>\n",
       "      <td>automaticity</td>\n",
       "      <td>~</td>\n",
       "      <td>intention_behavior_composite</td>\n",
       "      <td>1.000000</td>\n",
       "      <td>-</td>\n",
       "      <td>-</td>\n",
       "      <td>-</td>\n",
       "    </tr>\n",
       "    <tr>\n",
       "      <th>1</th>\n",
       "      <td>attitude</td>\n",
       "      <td>~</td>\n",
       "      <td>intention_behavior_composite</td>\n",
       "      <td>0.964388</td>\n",
       "      <td>0.00631445</td>\n",
       "      <td>152.727</td>\n",
       "      <td>0</td>\n",
       "    </tr>\n",
       "    <tr>\n",
       "      <th>2</th>\n",
       "      <td>norms</td>\n",
       "      <td>~</td>\n",
       "      <td>intention_behavior_composite</td>\n",
       "      <td>1.056695</td>\n",
       "      <td>0.00666631</td>\n",
       "      <td>158.513</td>\n",
       "      <td>0</td>\n",
       "    </tr>\n",
       "    <tr>\n",
       "      <th>3</th>\n",
       "      <td>risk</td>\n",
       "      <td>~</td>\n",
       "      <td>intention_behavior_composite</td>\n",
       "      <td>0.404973</td>\n",
       "      <td>0.00508496</td>\n",
       "      <td>79.6413</td>\n",
       "      <td>0</td>\n",
       "    </tr>\n",
       "    <tr>\n",
       "      <th>4</th>\n",
       "      <td>effective</td>\n",
       "      <td>~</td>\n",
       "      <td>intention_behavior_composite</td>\n",
       "      <td>1.074519</td>\n",
       "      <td>0.00719134</td>\n",
       "      <td>149.418</td>\n",
       "      <td>0</td>\n",
       "    </tr>\n",
       "  </tbody>\n",
       "</table>\n",
       "</div>"
      ],
      "text/plain": [
       "           lval op                          rval  Estimate    Std. Err  \\\n",
       "0  automaticity  ~  intention_behavior_composite  1.000000           -   \n",
       "1      attitude  ~  intention_behavior_composite  0.964388  0.00631445   \n",
       "2         norms  ~  intention_behavior_composite  1.056695  0.00666631   \n",
       "3          risk  ~  intention_behavior_composite  0.404973  0.00508496   \n",
       "4     effective  ~  intention_behavior_composite  1.074519  0.00719134   \n",
       "\n",
       "   z-value p-value  \n",
       "0        -       -  \n",
       "1  152.727       0  \n",
       "2  158.513       0  \n",
       "3  79.6413       0  \n",
       "4  149.418       0  "
      ]
     },
     "execution_count": 38,
     "metadata": {},
     "output_type": "execute_result"
    }
   ],
   "source": [
    "mod = Model(desc)\n",
    "res_opt = mod.fit(df, obj=\"FIML\")\n",
    "estimates = mod.inspect()\n",
    "report(mod, \"mask-behaviour-SEM\")\n",
    "\n",
    "estimates.head()"
   ]
  },
  {
   "cell_type": "code",
   "execution_count": 39,
   "metadata": {},
   "outputs": [
    {
     "data": {
      "text/html": [
       "<div>\n",
       "<style scoped>\n",
       "    .dataframe tbody tr th:only-of-type {\n",
       "        vertical-align: middle;\n",
       "    }\n",
       "\n",
       "    .dataframe tbody tr th {\n",
       "        vertical-align: top;\n",
       "    }\n",
       "\n",
       "    .dataframe thead th {\n",
       "        text-align: right;\n",
       "    }\n",
       "</style>\n",
       "<table border=\"1\" class=\"dataframe\">\n",
       "  <thead>\n",
       "    <tr style=\"text-align: right;\">\n",
       "      <th></th>\n",
       "      <th>lval</th>\n",
       "      <th>op</th>\n",
       "      <th>rval</th>\n",
       "      <th>Estimate</th>\n",
       "      <th>Std. Err</th>\n",
       "      <th>z-value</th>\n",
       "      <th>p-value</th>\n",
       "    </tr>\n",
       "  </thead>\n",
       "  <tbody>\n",
       "    <tr>\n",
       "      <th>0</th>\n",
       "      <td>automaticity</td>\n",
       "      <td>~</td>\n",
       "      <td>intention_behavior_composite</td>\n",
       "      <td>1.000000</td>\n",
       "      <td>-</td>\n",
       "      <td>-</td>\n",
       "      <td>-</td>\n",
       "    </tr>\n",
       "    <tr>\n",
       "      <th>1</th>\n",
       "      <td>attitude</td>\n",
       "      <td>~</td>\n",
       "      <td>intention_behavior_composite</td>\n",
       "      <td>0.964388</td>\n",
       "      <td>0.00631445</td>\n",
       "      <td>152.727</td>\n",
       "      <td>0</td>\n",
       "    </tr>\n",
       "    <tr>\n",
       "      <th>2</th>\n",
       "      <td>norms</td>\n",
       "      <td>~</td>\n",
       "      <td>intention_behavior_composite</td>\n",
       "      <td>1.056695</td>\n",
       "      <td>0.00666631</td>\n",
       "      <td>158.513</td>\n",
       "      <td>0</td>\n",
       "    </tr>\n",
       "    <tr>\n",
       "      <th>3</th>\n",
       "      <td>risk</td>\n",
       "      <td>~</td>\n",
       "      <td>intention_behavior_composite</td>\n",
       "      <td>0.404973</td>\n",
       "      <td>0.00508496</td>\n",
       "      <td>79.6413</td>\n",
       "      <td>0</td>\n",
       "    </tr>\n",
       "    <tr>\n",
       "      <th>4</th>\n",
       "      <td>effective</td>\n",
       "      <td>~</td>\n",
       "      <td>intention_behavior_composite</td>\n",
       "      <td>1.074519</td>\n",
       "      <td>0.00719134</td>\n",
       "      <td>149.418</td>\n",
       "      <td>0</td>\n",
       "    </tr>\n",
       "    <tr>\n",
       "      <th>37</th>\n",
       "      <td>intention_behavior_composite</td>\n",
       "      <td>~~</td>\n",
       "      <td>intention_behavior_composite</td>\n",
       "      <td>32.357754</td>\n",
       "      <td>1.01118</td>\n",
       "      <td>32.0001</td>\n",
       "      <td>0</td>\n",
       "    </tr>\n",
       "  </tbody>\n",
       "</table>\n",
       "</div>"
      ],
      "text/plain": [
       "                            lval  op                          rval   Estimate  \\\n",
       "0                   automaticity   ~  intention_behavior_composite   1.000000   \n",
       "1                       attitude   ~  intention_behavior_composite   0.964388   \n",
       "2                          norms   ~  intention_behavior_composite   1.056695   \n",
       "3                           risk   ~  intention_behavior_composite   0.404973   \n",
       "4                      effective   ~  intention_behavior_composite   1.074519   \n",
       "37  intention_behavior_composite  ~~  intention_behavior_composite  32.357754   \n",
       "\n",
       "      Std. Err  z-value p-value  \n",
       "0            -        -       -  \n",
       "1   0.00631445  152.727       0  \n",
       "2   0.00666631  158.513       0  \n",
       "3   0.00508496  79.6413       0  \n",
       "4   0.00719134  149.418       0  \n",
       "37     1.01118  32.0001       0  "
      ]
     },
     "execution_count": 39,
     "metadata": {},
     "output_type": "execute_result"
    }
   ],
   "source": [
    "estimates[estimates[\"rval\"].str.contains(target)]"
   ]
  },
  {
   "cell_type": "code",
   "execution_count": 40,
   "metadata": {},
   "outputs": [],
   "source": [
    "estimates[\"p-value\"] = estimates[\"p-value\"].replace(\"-\", np.nan)"
   ]
  },
  {
   "cell_type": "code",
   "execution_count": 41,
   "metadata": {},
   "outputs": [
    {
     "data": {
      "text/html": [
       "<div>\n",
       "<style scoped>\n",
       "    .dataframe tbody tr th:only-of-type {\n",
       "        vertical-align: middle;\n",
       "    }\n",
       "\n",
       "    .dataframe tbody tr th {\n",
       "        vertical-align: top;\n",
       "    }\n",
       "\n",
       "    .dataframe thead th {\n",
       "        text-align: right;\n",
       "    }\n",
       "</style>\n",
       "<table border=\"1\" class=\"dataframe\">\n",
       "  <thead>\n",
       "    <tr style=\"text-align: right;\">\n",
       "      <th></th>\n",
       "      <th>lval</th>\n",
       "      <th>op</th>\n",
       "      <th>rval</th>\n",
       "      <th>Estimate</th>\n",
       "      <th>Std. Err</th>\n",
       "      <th>z-value</th>\n",
       "      <th>p-value</th>\n",
       "    </tr>\n",
       "  </thead>\n",
       "  <tbody>\n",
       "    <tr>\n",
       "      <th>1</th>\n",
       "      <td>attitude</td>\n",
       "      <td>~</td>\n",
       "      <td>intention_behavior_composite</td>\n",
       "      <td>0.964388</td>\n",
       "      <td>0.00631445</td>\n",
       "      <td>152.727</td>\n",
       "      <td>0.0</td>\n",
       "    </tr>\n",
       "    <tr>\n",
       "      <th>2</th>\n",
       "      <td>norms</td>\n",
       "      <td>~</td>\n",
       "      <td>intention_behavior_composite</td>\n",
       "      <td>1.056695</td>\n",
       "      <td>0.00666631</td>\n",
       "      <td>158.513</td>\n",
       "      <td>0.0</td>\n",
       "    </tr>\n",
       "    <tr>\n",
       "      <th>3</th>\n",
       "      <td>risk</td>\n",
       "      <td>~</td>\n",
       "      <td>intention_behavior_composite</td>\n",
       "      <td>0.404973</td>\n",
       "      <td>0.00508496</td>\n",
       "      <td>79.6413</td>\n",
       "      <td>0.0</td>\n",
       "    </tr>\n",
       "    <tr>\n",
       "      <th>4</th>\n",
       "      <td>effective</td>\n",
       "      <td>~</td>\n",
       "      <td>intention_behavior_composite</td>\n",
       "      <td>1.074519</td>\n",
       "      <td>0.00719134</td>\n",
       "      <td>149.418</td>\n",
       "      <td>0.0</td>\n",
       "    </tr>\n",
       "    <tr>\n",
       "      <th>6</th>\n",
       "      <td>automaticity_put_on_mask</td>\n",
       "      <td>~</td>\n",
       "      <td>automaticity</td>\n",
       "      <td>1.021864</td>\n",
       "      <td>0.00324488</td>\n",
       "      <td>314.916</td>\n",
       "      <td>0.0</td>\n",
       "    </tr>\n",
       "    <tr>\n",
       "      <th>...</th>\n",
       "      <td>...</td>\n",
       "      <td>...</td>\n",
       "      <td>...</td>\n",
       "      <td>...</td>\n",
       "      <td>...</td>\n",
       "      <td>...</td>\n",
       "      <td>...</td>\n",
       "    </tr>\n",
       "    <tr>\n",
       "      <th>138</th>\n",
       "      <td>effective_means_distance</td>\n",
       "      <td>~~</td>\n",
       "      <td>effective_means_distance</td>\n",
       "      <td>1.309151</td>\n",
       "      <td>0.0357479</td>\n",
       "      <td>36.6218</td>\n",
       "      <td>0.0</td>\n",
       "    </tr>\n",
       "    <tr>\n",
       "      <th>139</th>\n",
       "      <td>aff_attitude_difficult_breathing</td>\n",
       "      <td>~~</td>\n",
       "      <td>aff_attitude_difficult_breathing</td>\n",
       "      <td>3.642390</td>\n",
       "      <td>0.110116</td>\n",
       "      <td>33.0778</td>\n",
       "      <td>0.0</td>\n",
       "    </tr>\n",
       "    <tr>\n",
       "      <th>140</th>\n",
       "      <td>effective_means_ventilation</td>\n",
       "      <td>~~</td>\n",
       "      <td>effective_means_ventilation</td>\n",
       "      <td>2.021533</td>\n",
       "      <td>0.0571514</td>\n",
       "      <td>35.3715</td>\n",
       "      <td>0.0</td>\n",
       "    </tr>\n",
       "    <tr>\n",
       "      <th>141</th>\n",
       "      <td>risk_fear_restrictions</td>\n",
       "      <td>~~</td>\n",
       "      <td>risk_fear_restrictions</td>\n",
       "      <td>3.806091</td>\n",
       "      <td>0.135044</td>\n",
       "      <td>28.1842</td>\n",
       "      <td>0.0</td>\n",
       "    </tr>\n",
       "    <tr>\n",
       "      <th>143</th>\n",
       "      <td>norms_people_present_indoors</td>\n",
       "      <td>~~</td>\n",
       "      <td>norms_people_present_indoors</td>\n",
       "      <td>1.426642</td>\n",
       "      <td>0.0398756</td>\n",
       "      <td>35.7774</td>\n",
       "      <td>0.0</td>\n",
       "    </tr>\n",
       "  </tbody>\n",
       "</table>\n",
       "<p>121 rows × 7 columns</p>\n",
       "</div>"
      ],
      "text/plain": [
       "                                 lval  op                              rval  \\\n",
       "1                            attitude   ~      intention_behavior_composite   \n",
       "2                               norms   ~      intention_behavior_composite   \n",
       "3                                risk   ~      intention_behavior_composite   \n",
       "4                           effective   ~      intention_behavior_composite   \n",
       "6            automaticity_put_on_mask   ~                      automaticity   \n",
       "..                                ...  ..                               ...   \n",
       "138          effective_means_distance  ~~          effective_means_distance   \n",
       "139  aff_attitude_difficult_breathing  ~~  aff_attitude_difficult_breathing   \n",
       "140       effective_means_ventilation  ~~       effective_means_ventilation   \n",
       "141            risk_fear_restrictions  ~~            risk_fear_restrictions   \n",
       "143      norms_people_present_indoors  ~~      norms_people_present_indoors   \n",
       "\n",
       "     Estimate    Std. Err  z-value  p-value  \n",
       "1    0.964388  0.00631445  152.727      0.0  \n",
       "2    1.056695  0.00666631  158.513      0.0  \n",
       "3    0.404973  0.00508496  79.6413      0.0  \n",
       "4    1.074519  0.00719134  149.418      0.0  \n",
       "6    1.021864  0.00324488  314.916      0.0  \n",
       "..        ...         ...      ...      ...  \n",
       "138  1.309151   0.0357479  36.6218      0.0  \n",
       "139  3.642390    0.110116  33.0778      0.0  \n",
       "140  2.021533   0.0571514  35.3715      0.0  \n",
       "141  3.806091    0.135044  28.1842      0.0  \n",
       "143  1.426642   0.0398756  35.7774      0.0  \n",
       "\n",
       "[121 rows x 7 columns]"
      ]
     },
     "execution_count": 41,
     "metadata": {},
     "output_type": "execute_result"
    }
   ],
   "source": [
    "estimates[estimates[\"p-value\"] < 0.05]"
   ]
  },
  {
   "cell_type": "code",
   "execution_count": 42,
   "metadata": {},
   "outputs": [],
   "source": [
    "# g = semplot(mod, filename='semplot.png')\n",
    "# g"
   ]
  },
  {
   "cell_type": "markdown",
   "metadata": {},
   "source": [
    "## Example political democracy SEM"
   ]
  },
  {
   "cell_type": "code",
   "execution_count": 43,
   "metadata": {},
   "outputs": [],
   "source": [
    "# from semopy.examples import political_democracy\n",
    "# from semopy import ModelMeans, report\n",
    "\n",
    "# desc = political_democracy.get_model()\n",
    "# data = political_democracy.get_data()\n",
    "# model = ModelMeans(desc)\n",
    "# model.fit(data)\n",
    "# report(model, \"Political Democracy\")"
   ]
  },
  {
   "cell_type": "code",
   "execution_count": null,
   "metadata": {},
   "outputs": [],
   "source": []
  }
 ],
 "metadata": {
  "kernelspec": {
   "display_name": "ds_env",
   "language": "python",
   "name": "ds_env"
  },
  "language_info": {
   "codemirror_mode": {
    "name": "ipython",
    "version": 3
   },
   "file_extension": ".py",
   "mimetype": "text/x-python",
   "name": "python",
   "nbconvert_exporter": "python",
   "pygments_lexer": "ipython3",
   "version": "3.8.5"
  }
 },
 "nbformat": 4,
 "nbformat_minor": 5
}
